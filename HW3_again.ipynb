{
 "cells": [
  {
   "cell_type": "code",
   "execution_count": 1,
   "id": "aa80efc1",
   "metadata": {},
   "outputs": [],
   "source": [
    "import pandas as pd\n",
    "url1 =\"https://raw.githubusercontent.com/fju155447/fin_data/main/\""
   ]
  },
  {
   "cell_type": "code",
   "execution_count": 2,
   "id": "72c77993",
   "metadata": {},
   "outputs": [],
   "source": [
    "url = url1 + \"NominalGDP_new\" + \".csv\"\n",
    "df1 = pd.read_csv(url)"
   ]
  },
  {
   "cell_type": "code",
   "execution_count": 3,
   "id": "94f5c123",
   "metadata": {},
   "outputs": [],
   "source": [
    "url = url1 + \"HHSpending_new\" + \".csv\"\n",
    "df2 = pd.read_csv(url)"
   ]
  },
  {
   "cell_type": "code",
   "execution_count": 4,
   "id": "98ffb941",
   "metadata": {},
   "outputs": [],
   "source": [
    "url = url1 + \"FixedK_new\" + \".csv\"\n",
    "df3 = pd.read_csv(url)"
   ]
  },
  {
   "cell_type": "code",
   "execution_count": 5,
   "id": "01c6d5ed",
   "metadata": {},
   "outputs": [],
   "source": [
    "url = url1 + \"GovSpending_new\" + \".csv\"\n",
    "df4 = pd.read_csv(url)"
   ]
  },
  {
   "cell_type": "code",
   "execution_count": 6,
   "id": "825ef09b",
   "metadata": {},
   "outputs": [],
   "source": [
    "url = url1 + \"CurrentAccountBalance_new\" + \".csv\"\n",
    "df5 = pd.read_csv(url)"
   ]
  },
  {
   "cell_type": "code",
   "execution_count": 7,
   "id": "e4e82b9c",
   "metadata": {},
   "outputs": [],
   "source": [
    "current = df1[df1['time']=='22-Dec']['value'].values - df2[df2['time']=='22-Dec']['value'].values - df3[df3['time']=='22-Dec']['value'].values - df4[df4['time']=='22-Dec']['value'].values \n"
   ]
  },
  {
   "cell_type": "code",
   "execution_count": 8,
   "id": "b9a12562",
   "metadata": {},
   "outputs": [
    {
     "data": {
      "text/plain": [
       "array([130653.93333333])"
      ]
     },
     "execution_count": 8,
     "metadata": {},
     "output_type": "execute_result"
    }
   ],
   "source": [
    "current / 30\n"
   ]
  },
  {
   "cell_type": "code",
   "execution_count": 9,
   "id": "a3d9d06f",
   "metadata": {},
   "outputs": [
    {
     "data": {
      "text/plain": [
       "101305.0"
      ]
     },
     "execution_count": 9,
     "metadata": {},
     "output_type": "execute_result"
    }
   ],
   "source": [
    "float(df5.loc[2,'value'].replace(\",\",\"\"))+ float(df5.loc[3,'value'].replace(\",\",\"\")) + float(df5.loc[4,'value'].replace(\",\",\"\")) + float(df5.loc[5,'value'].replace(\",\",\"\"))"
   ]
  },
  {
   "cell_type": "code",
   "execution_count": null,
   "id": "d3ce57dd",
   "metadata": {},
   "outputs": [],
   "source": []
  }
 ],
 "metadata": {
  "kernelspec": {
   "display_name": "Python 3 (ipykernel)",
   "language": "python",
   "name": "python3"
  },
  "language_info": {
   "codemirror_mode": {
    "name": "ipython",
    "version": 3
   },
   "file_extension": ".py",
   "mimetype": "text/x-python",
   "name": "python",
   "nbconvert_exporter": "python",
   "pygments_lexer": "ipython3",
   "version": "3.9.7"
  }
 },
 "nbformat": 4,
 "nbformat_minor": 5
}
